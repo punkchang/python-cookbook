{
 "cells": [
  {
   "cell_type": "markdown",
   "metadata": {},
   "source": [
    "# intsall in normal env\n",
    "- py -3 -m pip install <name of the package> \n",
    "\n",
    "example:\n",
    "- py -3 -m pip install matplotlib"
   ]
  },
  {
   "cell_type": "markdown",
   "metadata": {},
   "source": [
    "# install in virtual env\n",
    "virtual env is used to meet the requirement that differnet project need different verison of python and python project.\n",
    "So different project has its own virtual env, and different version packets are created under this proejct.\n",
    "\n",
    "## steps \n",
    "- py -3 -m venv .venv             // create a virtual env for this project\n",
    "- .\\.venv\\Scripts\\activate        // activate the virtual env\n",
    "- py -3 -m pip install matplotlib // install 3rd packets under venv dir \n",
    "- deactivate                      // exit virtual env, and then can remove venv directly "
   ]
  }
 ],
 "metadata": {
  "kernelspec": {
   "display_name": "Python 3.10.6 64-bit",
   "language": "python",
   "name": "python3"
  },
  "language_info": {
   "codemirror_mode": {
    "name": "ipython",
    "version": 3
   },
   "file_extension": ".py",
   "mimetype": "text/x-python",
   "name": "python",
   "nbconvert_exporter": "python",
   "pygments_lexer": "ipython3",
   "version": "3.10.6"
  },
  "orig_nbformat": 4,
  "vscode": {
   "interpreter": {
    "hash": "ac4ec57304f34e5a46a8ec5a24717e32abaa762d97555ff6e42b99ec2267434f"
   }
  }
 },
 "nbformat": 4,
 "nbformat_minor": 2
}
