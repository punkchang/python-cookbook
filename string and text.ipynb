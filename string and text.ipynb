{
 "cells": [
  {
   "cell_type": "markdown",
   "metadata": {},
   "source": [
    "# 正则表达式 \n",
    "\n",
    "1. https://docs.python.org/zh-cn/3/library/re.html\n",
    "2. [] 表示一个字符的合集， [abc]表示匹配'a','b','c'。[a-z]表示从'a'到'z'字母所有，[0-9]也是类似.\n",
    "3. | 表示匹配|两侧的任意正则表达式，和上面[]作用类似。 \n",
    "4. 开头，结尾的匹配可以使用str.stratwith(), str.endwith()\n",
    "5. re.compile预编译会提高性能，多次匹配的时候建议先预编译\n",
    "6. 替换使用sub即可。 \n"
   ]
  },
  {
   "cell_type": "code",
   "execution_count": 7,
   "metadata": {},
   "outputs": [
    {
     "name": "stdout",
     "output_type": "stream",
     "text": [
      "['asdf', 'fjdk', 'afed', 'fjek', 'asdf', 'foo']\n",
      "['asdf', ' ', 'fjdk', ';', 'afed', ',', 'fjek', ',', 'asdf', ',', 'foo']\n",
      "['asdf', ' ', 'fjdk', ';', 'afed', ',', 'fjek', ',', 'asdf', ',', 'foo']\n"
     ]
    }
   ],
   "source": [
    "line = 'asdf fjdk; afed, fjek,asdf, foo';\n",
    "import re;\n",
    "\n",
    "a = re.split(r'[\\s;,]\\s*',line); # split by different delimiter\n",
    "print(a);\n",
    "\n",
    "a = re.split(r'([\\s;,])\\s*',line); # capture group result in delimiter in result.\n",
    "print(a);\n",
    "\n",
    "a = re.split(r'(\\s|;|,)\\s*',line);\n",
    "print(a);"
   ]
  },
  {
   "cell_type": "code",
   "execution_count": 12,
   "metadata": {},
   "outputs": [
    {
     "name": "stdout",
     "output_type": "stream",
     "text": [
      "True\n",
      "True\n"
     ]
    }
   ],
   "source": [
    "url = 'http://www.python.org';\n",
    "\n",
    "print(url.startswith(('http:','https:'))); # two or more compare pattern, need to re-organize into a tuple.\n",
    "print(url.endswith('org'));"
   ]
  },
  {
   "cell_type": "code",
   "execution_count": 27,
   "metadata": {},
   "outputs": [
    {
     "name": "stdout",
     "output_type": "stream",
     "text": [
      "('1', '27', '2012')\n",
      "abcd11/27/2012\n",
      "abcd11/27/2012\n",
      "1\n",
      "27\n",
      "2012\n",
      "<re.Match object; span=(0, 10), match='11/27/2012'>\n",
      "[('1', '27', '2012'), ('3', '13', '2013')]\n"
     ]
    }
   ],
   "source": [
    "text = 'abcd11/27/2012';\n",
    "import re;\n",
    "pattern = re.compile(r'\\w*(\\d+)/(\\d+)/(\\d+)');\n",
    "m = pattern.match(text);\n",
    "print(m.groups());\n",
    "print(m.group());\n",
    "print(m.group(0));\n",
    "print(m.group(1));\n",
    "print(m.group(2));\n",
    "print(m.group(3));\n",
    "\n",
    "text = '11/27/2012abcdef';\n",
    "m = pattern.match(text); # macth once and return result\n",
    "print(m);\n",
    "\n",
    "text = 'Today is 11/27/2012. PyCon starts 3/13/2013.'\n",
    "m = pattern.findall(text); # return all the pattern matched and output a list \n",
    "print(m);\n"
   ]
  },
  {
   "cell_type": "code",
   "execution_count": 33,
   "metadata": {},
   "outputs": [
    {
     "name": "stdout",
     "output_type": "stream",
     "text": [
      "Today is 2012-11-27. PyCon starts 2013-3-13.\n",
      "Today is 2012-11-27. PyCon starts 2013-3-13.\n"
     ]
    }
   ],
   "source": [
    "text = 'Today is 11/27/2012. PyCon starts 3/13/2013.'\n",
    "import re;\n",
    "\n",
    "a = re.sub(r'(\\d+)/(\\d+)/(\\d+)',r'\\3-\\1-\\2',text);\n",
    "print(a);\n",
    "\n",
    "pattern =  re.compile(r'(\\d+)/(\\d+)/(\\d+)');\n",
    "a = pattern.sub(r'\\3-\\1-\\2',text);\n",
    "print(a);"
   ]
  }
 ],
 "metadata": {
  "kernelspec": {
   "display_name": "Python 3.10.6 64-bit",
   "language": "python",
   "name": "python3"
  },
  "language_info": {
   "codemirror_mode": {
    "name": "ipython",
    "version": 3
   },
   "file_extension": ".py",
   "mimetype": "text/x-python",
   "name": "python",
   "nbconvert_exporter": "python",
   "pygments_lexer": "ipython3",
   "version": "3.10.6"
  },
  "orig_nbformat": 4,
  "vscode": {
   "interpreter": {
    "hash": "88d3c9f79ce6612b3524e88f4b4c25b889063b766afcca441cc522b4fc65e301"
   }
  }
 },
 "nbformat": 4,
 "nbformat_minor": 2
}
