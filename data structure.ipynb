{
 "cells": [
  {
   "cell_type": "markdown",
   "metadata": {},
   "source": [
    "# 拆分赋值\n",
    "\n",
    "序列或者可迭代对象可以通过简单的赋值操作进行分解，这些序列包含list，tuple，字符串，但要注意前后的变量数目要相等，需要丢弃的可以用*特殊占位符*赋值"
   ]
  },
  {
   "cell_type": "code",
   "execution_count": null,
   "metadata": {},
   "outputs": [
    {
     "name": "stdout",
     "output_type": "stream",
     "text": [
      "(1, 2, 3)\n"
     ]
    }
   ],
   "source": [
    "data = [1,50,11,9,(1,2,3)];\n",
    "a,b,c,_,e = data;\n",
    "print(e);"
   ]
  },
  {
   "cell_type": "markdown",
   "metadata": {},
   "source": [
    "python的*星号表达式*可以在赋值的时候，通配多项，进而保留有特征的值,对于不确定个数的匹配很有效，对于规则简单的正则匹配更简洁。星号本身代表的是*拆分序列*"
   ]
  },
  {
   "cell_type": "code",
   "execution_count": null,
   "metadata": {},
   "outputs": [
    {
     "name": "stdout",
     "output_type": "stream",
     "text": [
      "[50, 11, 9]\n",
      "[11, 9, (1, 2, 3)]\n",
      "[11, 9, (1, 2, 3)]\n"
     ]
    }
   ],
   "source": [
    "data = [1,50,11,9,(1,2,3)];\n",
    "a,*b,c = data;\n",
    "print(b)\n",
    "a,b,*c = data;\n",
    "print(c);\n",
    "a,b,*_ = data;\n",
    "print(_);"
   ]
  },
  {
   "cell_type": "code",
   "execution_count": null,
   "metadata": {},
   "outputs": [
    {
     "name": "stdout",
     "output_type": "stream",
     "text": [
      "data x = 1, y = 2\n",
      "string is hello\n",
      "data x = 3, y = 4\n"
     ]
    }
   ],
   "source": [
    "records = [\n",
    "    (\"type1\",1,2),\n",
    "    (\"type2\",\"hello\"),\n",
    "    (\"type1\",3,4)\n",
    "]\n",
    "\n",
    "def do_type1(x,y):\n",
    "    print(\"data x = %d, y = %d\"%(x,y));\n",
    "\n",
    "def do_type2(x):\n",
    "    print(\"string is %s\"%(x));\n",
    "\n",
    "for type, *args in records: #unify the difference in one thread.\n",
    "    if type == \"type1\":\n",
    "        do_type1(*args);\n",
    "    elif type == \"type2\":\n",
    "        do_type2(*args);\n"
   ]
  },
  {
   "cell_type": "markdown",
   "metadata": {},
   "source": [
    "保证有限历史记录可以用collection.deque,deque(maxlen=N) 构造函数会生成一个固定大小的queue，当新元素加入，并且queue已满的时候，老元素会被自动移除。\n",
    "\n",
    "在队列两端插入或删除元素时间复杂度都是 O(1) ，区别于列表，在列表的开头插入或删除元素的时间复杂度为 O(N) 。"
   ]
  },
  {
   "cell_type": "code",
   "execution_count": null,
   "metadata": {},
   "outputs": [
    {
     "name": "stdout",
     "output_type": "stream",
     "text": [
      "deque([1, 2, 3], maxlen=3)\n",
      "deque([2, 3, 4], maxlen=3)\n",
      "deque([1, 2, 3], maxlen=3)\n"
     ]
    }
   ],
   "source": [
    "from collections import deque;\n",
    "\n",
    "q = deque(maxlen=3);\n",
    "q.append(1);\n",
    "q.append(2);\n",
    "q.append(3);\n",
    "print(q);\n",
    "q.append(4);\n",
    "print(q);\n",
    "q.appendleft(1);\n",
    "print(q);\n"
   ]
  },
  {
   "cell_type": "markdown",
   "metadata": {},
   "source": [
    "# 排序\n",
    "\n",
    "找最大值，最小值分为几种情况，如果是找最大值，最小值，那么直接min(),max()即可。如果是找最大的三个数，或者最小的三个数，可以利用堆属性的heapq的nlargest和nsmallest来，如果最大最小的数目和queue大小相似，可以先用heapq排序，再用切片赋值的方式取出。\n",
    "\n",
    "堆的属性是headq[0]永远是最小值"
   ]
  },
  {
   "cell_type": "code",
   "execution_count": null,
   "metadata": {},
   "outputs": [
    {
     "name": "stdout",
     "output_type": "stream",
     "text": [
      "[-100, -6, 0, 1, 6, 5, 3, 9, 7]\n",
      "[-6, 1, 0, 7, 6, 5, 3, 9]\n",
      "[0, 1, 3, 7, 6, 5, 9]\n",
      "[1, 6, 3, 7, 9, 5]\n",
      "[9, 7, 6]\n",
      "[1, 3, 5]\n",
      "[1, 3, 5, 6, 7, 9]\n"
     ]
    }
   ],
   "source": [
    "import heapq;\n",
    "\n",
    "lists = [1,9,3,7,6,5,0,-6,-100];\n",
    "heapq.heapify(lists); #convert lists to heap \n",
    "print(lists); #heap ensure heap[0] is the min value.\n",
    "\n",
    "heapq.heappop(lists);\n",
    "print(lists);\n",
    "\n",
    "heapq.heappop(lists);\n",
    "print(lists);\n",
    "\n",
    "heapq.heappop(lists); # after each pop, heap ensure heap[0] is min value\n",
    "print(lists);\n",
    "\n",
    "large3 = heapq.nlargest(3,lists);\n",
    "print(large3);\n",
    "\n",
    "small3 = heapq.nsmallest(3,lists);\n",
    "print(small3);\n",
    "\n",
    "heapq_sort = [heapq.heappop(lists) for _ in range (len(lists))];\n",
    "print(heapq_sort);\n",
    "\n"
   ]
  },
  {
   "cell_type": "code",
   "execution_count": null,
   "metadata": {},
   "outputs": [
    {
     "name": "stdout",
     "output_type": "stream",
     "text": [
      "[[-4, 'e'], [-3, 'd'], [1, 'b'], [-2, 'c'], [0, 'a']]\n",
      "e\n",
      "d\n",
      "c\n",
      "a\n",
      "b\n",
      "True\n"
     ]
    }
   ],
   "source": [
    "import heapq;\n",
    "\n",
    "priority_record = [[4,\"e\"],[0,\"a\"],[-1,\"b\"],[2,\"c\"],[3,\"d\"]];\n",
    "for i in priority_record:\n",
    "    i[0] = -i[0];\n",
    "heapq.heapify(priority_record); \n",
    "print(priority_record);\n",
    "\n",
    "for i in range (len(priority_record)):\n",
    "    print(heapq.heappop(priority_record)[1]);\n",
    "\n",
    "print ([4,'e'] > [3,'a']); #list是可以比较大小的，看的是[0],[0]相同看[1]，以此类推\n"
   ]
  },
  {
   "cell_type": "markdown",
   "metadata": {},
   "source": [
    "# DICT\n",
    "\n",
    "1. dict key必须是不可变对象， dict是根据key来计算value的地址，所以key一旦确定就不能改变。字符串，整数都是不可变对象，list就是可变对象\n",
    "2. set和dict都是用{}作为标识符，不同的是dict是key-value pair，set只有key， 同样要求key之间不能重复，同时key必须是不可变对象，这样才能确定是两个key是否相等\n",
    "3. set可以做逻辑上的与或操作。"
   ]
  },
  {
   "cell_type": "code",
   "execution_count": 3,
   "metadata": {},
   "outputs": [
    {
     "name": "stdout",
     "output_type": "stream",
     "text": [
      "{1, 2, 4, 8, 9}\n",
      "{1, 2}\n",
      "{1, 2, 3, 4, 8, 9}\n"
     ]
    }
   ],
   "source": [
    "a = set([1,2,2,1,4,2,9,8]);\n",
    "print(a);\n",
    "\n",
    "b = set([1,2,3]);\n",
    "\n",
    "c = a & b;\n",
    "print(c);\n",
    "c = a | b;\n",
    "print(c);"
   ]
  },
  {
   "cell_type": "code",
   "execution_count": 16,
   "metadata": {},
   "outputs": [
    {
     "name": "stdout",
     "output_type": "stream",
     "text": [
      "{1: [2], 3: [4], 5: [6]}\n",
      "defaultdict(<class 'list'>, {1: [2], 3: [4], 5: [6]})\n"
     ]
    }
   ],
   "source": [
    "# typical dict init \n",
    "\n",
    "pairs = [{1,2},{3,4},{5,6}];\n",
    "d = {}; # init dict\n",
    "for key, value in pairs:\n",
    "    if key not in d: # judge of key exist\n",
    "        d[key] = []  # if a new key, init value format \n",
    "    d[key].append(value)\n",
    "\n",
    "print(d);\n",
    "\n",
    "# defaultdict \n",
    "\n",
    "from collections import defaultdict;\n",
    "\n",
    "d = defaultdict(list);\n",
    "for key, value in pairs:\n",
    "    d[key].append(value);\n",
    "\n",
    "print(d);"
   ]
  },
  {
   "cell_type": "code",
   "execution_count": 11,
   "metadata": {},
   "outputs": [
    {
     "name": "stdout",
     "output_type": "stream",
     "text": [
      "defaultdict(<class 'list'>, {})\n",
      "defaultdict(<class 'list'>, {'a': [1, 2], 'c': 9})\n",
      "[1, 2]\n",
      "defaultdict(<class 'set'>, {})\n",
      "defaultdict(<class 'set'>, {1: {6, 7}, 2: {3}})\n",
      "{6, 7}\n"
     ]
    }
   ],
   "source": [
    "from collections import defaultdict;\n",
    "\n",
    "#no need to init dict, \n",
    "#just add key and append if value is a list, \n",
    "#if value is a single data, just assign it.\n",
    "\n",
    "d = defaultdict(list); # no need d = {}; and judege if the key exists\n",
    "print(d);\n",
    "d['a'].append(1);\n",
    "d['a'].append(2);\n",
    "d['c'] = 9;\n",
    "print(d);\n",
    "print(d['a']);\n",
    "\n",
    "s = defaultdict(set);\n",
    "print(s);\n",
    "s[1].add(6);\n",
    "s[2].add(3);\n",
    "s[1].add(7);\n",
    "print(s);\n",
    "print(s[1]);"
   ]
  },
  {
   "cell_type": "markdown",
   "metadata": {},
   "source": [
    "4. 正常dict的key是乱序的，实际初始化的顺序和最终输出的顺序不一致。如果想得到一个保续的dict，就需要用到OrderedDict\n",
    "5. 需要注意的是OrderedDict使用另一个链表来记录item插入顺序，所以占用内存是正常dict的两倍，如果dict内容本身很大，需要注意内存开销。"
   ]
  },
  {
   "cell_type": "code",
   "execution_count": 7,
   "metadata": {},
   "outputs": [
    {
     "name": "stdout",
     "output_type": "stream",
     "text": [
      "OrderedDict([('a', 1), ('b', 2), ('c', 3), ('d', 4)])\n",
      "{\"a\": 1, \"b\": 2, \"c\": 3, \"d\": 4}\n",
      "[1, 2, 3, 4]\n"
     ]
    }
   ],
   "source": [
    "from collections import OrderedDict;\n",
    "d = OrderedDict();\n",
    "d['a'] = 1;\n",
    "d['b'] = 2;\n",
    "d['c'] = 3;\n",
    "d['d'] = 4;\n",
    "print(d);\n",
    "\n",
    "import json;\n",
    "s = json.dumps(d);\n",
    "print(s);\n"
   ]
  },
  {
   "cell_type": "markdown",
   "metadata": {},
   "source": [
    "lambda function like \n",
    "\n",
    "```\n",
    "lambda x : 2*x \n",
    "```\n",
    "is equvalent to \n",
    "\n",
    "```\n",
    "def func (x):\n",
    "    return 2*x\n",
    "\n",
    "```\n",
    "\n",
    "你可以在 min() 和 max() 函数中提供 key 函数参数来获取最小值或最大值对应的键的信息："
   ]
  },
  {
   "cell_type": "code",
   "execution_count": 14,
   "metadata": {},
   "outputs": [
    {
     "name": "stdout",
     "output_type": "stream",
     "text": [
      "Helln\n",
      "(65, 'Jim')\n",
      "dict_keys(['Helln', 'Tom', 'Jim', 'Lucy'])\n"
     ]
    }
   ],
   "source": [
    "dict = {\n",
    "    \"Helln\" : 100,\n",
    "    \"Tom\" : 98,\n",
    "    \"Jim\" : 65,\n",
    "    \"Lucy\" : 76 \n",
    "};\n",
    "\n",
    "print(max(dict, key=lambda x : dict[x])); \n",
    "\n",
    "# compare based on the return of lambda function\n",
    "\n",
    "print(min(zip(dict.values(),dict.keys())));\n",
    "\n",
    "# compare the first index data and if first index data is equal \n",
    "# then compare the 2nd. \n",
    "\n"
   ]
  },
  {
   "cell_type": "markdown",
   "metadata": {},
   "source": [
    "只有具有set属性的集合才能进行集合操作（&，|，-）即保证集合内部没有重复的部分。符合这个的有set, dict.keys(), dict.items()。\n",
    "\n",
    "对于dict.values()不可以，原因还是因为其不能保证集合内没有重复元素，可能会导致某种集合操作出错。"
   ]
  },
  {
   "cell_type": "code",
   "execution_count": 23,
   "metadata": {},
   "outputs": [
    {
     "name": "stdout",
     "output_type": "stream",
     "text": [
      "defaultdict(None, {'x': 1, 'y': 2, 'z': 3}) defaultdict(None, {'x': 9, 'y': 2, 'w': 3})\n",
      "{('y', 2)}\n",
      "{'z'}\n",
      "{'w'}\n",
      "{'y', 'w', 'z', 'x'}\n",
      "{2, 3}\n"
     ]
    }
   ],
   "source": [
    "from collections import defaultdict;\n",
    "\n",
    "d1 = defaultdict();\n",
    "d1['x'] = 1;\n",
    "d1['y'] = 2;\n",
    "d1['z'] = 3;\n",
    "\n",
    "d2 = defaultdict();\n",
    "d2['x'] = 9;\n",
    "d2['y'] = 2;\n",
    "d2['w'] = 3;\n",
    "\n",
    "print(d1,d2);\n",
    "\n",
    "print(d1.items() & d2.items());\n",
    "print(d1.keys() - d2.keys());\n",
    "print(d2.keys() - d1.keys());\n",
    "print(d2.keys() | d1.keys());\n",
    "print(set(d1.values()) & set(d2.values())); # convert to set and do operation\n"
   ]
  },
  {
   "cell_type": "markdown",
   "metadata": {},
   "source": [
    "# sort\n",
    "1. sorted()/min()/max() 提供了对输入的list或者dict,排序和大小比较的功能。\n",
    "2. 但如果需要对相应的输入做一定的变换再进行排序或者比较，这些函数提供了一个叫key aruguement.ex:\n",
    "    ```\n",
    "    sorted(<callable obj>, key=func) # func的输入时前面的list或者dict，func的输出是要进行sort或者比较大小的对象\n",
    "\n",
    "    ```\n",
    "3. calllable obj 可以是dict, list, tuple 等等。\n",
    "4. func 有两种style，\n",
    "    - 一种是上面用过的lambda函数，key=lambda x : expression(x), x 是callable obj中的一个item，expression(x)是函数输出，也就是sorted作用对象\n",
    "    - 一种是 operator.attrgetter() for class obj,  operator.itemgetter() for dict.\n",
    "5. lambda 函数更加通用，不区分class还是dict，但更慢一点，operator的性能更好. 两者都可以利用先比较第一个元素的特性，完成多层次的比较"
   ]
  },
  {
   "cell_type": "code",
   "execution_count": 29,
   "metadata": {},
   "outputs": [
    {
     "name": "stdout",
     "output_type": "stream",
     "text": [
      "[{'fname': 'John', 'lname': 'Cleese', 'uid': 1001}, {'fname': 'David', 'lname': 'Beazley', 'uid': 1002}, {'fname': 'Brian', 'lname': 'Jones', 'uid': 1003}, {'fname': 'Big', 'lname': 'Jones', 'uid': 1004}]\n",
      "[{'fname': 'John', 'lname': 'Cleese', 'uid': 1001}, {'fname': 'David', 'lname': 'Beazley', 'uid': 1002}, {'fname': 'Brian', 'lname': 'Jones', 'uid': 1003}, {'fname': 'Big', 'lname': 'Jones', 'uid': 1004}]\n"
     ]
    }
   ],
   "source": [
    "rows = [\n",
    "    {'fname': 'Brian', 'lname': 'Jones', 'uid': 1003},\n",
    "    {'fname': 'David', 'lname': 'Beazley', 'uid': 1002},\n",
    "    {'fname': 'John', 'lname': 'Cleese', 'uid': 1001},\n",
    "    {'fname': 'Big', 'lname': 'Jones', 'uid': 1004}\n",
    "]\n",
    "\n",
    "# sort using lambda \n",
    "rows_by_uid =  sorted(rows,key=lambda x : x['uid']);\n",
    "rows_by_name = sorted(rows,key=lambda x : (x['fname'],x['lname'])) # first compare fname, if fname is equal, compare lname\n",
    "print(rows_by_uid);\n",
    "\n",
    "# sort using itemgetter\n",
    "from operator import itemgetter;\n",
    "rows_by_uid1 = sorted(rows,key=itemgetter('uid'));\n",
    "rows_by_name1 = sorted(rows,key=itemgetter('fname','lname'));\n",
    "print(rows_by_uid1);"
   ]
  },
  {
   "cell_type": "code",
   "execution_count": 27,
   "metadata": {},
   "outputs": [
    {
     "name": "stdout",
     "output_type": "stream",
     "text": [
      "[User(3), User(23), User(99)]\n",
      "[User(3), User(23), User(99)]\n"
     ]
    }
   ],
   "source": [
    "class User:\n",
    "    def __init__(self, user_id):\n",
    "        self.user_id = user_id\n",
    "\n",
    "    def __repr__(self):\n",
    "        return 'User({})'.format(self.user_id)\n",
    "\n",
    "users = [User(23), User(3), User(99)];\n",
    "\n",
    "user_by_uid = sorted(users,key=lambda x : x.user_id);\n",
    "print(user_by_uid);\n",
    "\n",
    "from operator import attrgetter;\n",
    "user_by_uid1 = sorted(users,key=attrgetter('user_id'));\n",
    "print(user_by_uid1);"
   ]
  },
  {
   "cell_type": "markdown",
   "metadata": {},
   "source": [
    "# 过滤 & 合并\n",
    "1. 过滤意味着在原有的数据结构上进行筛选过滤出一个新的数据结构\n",
    "2. 常见的过滤方式： 推导， 包括列表推导还有字典推导\n",
    "3. 合并一般使用chainmap(), 重复值拿第一个，赋值也是影响第一个dict，原dict改动会影响到新merge dict，更像一个指针而非真实产生一个dict。"
   ]
  },
  {
   "cell_type": "code",
   "execution_count": 32,
   "metadata": {},
   "outputs": [
    {
     "name": "stdout",
     "output_type": "stream",
     "text": [
      "[1, 4, 10, 2, 3]\n",
      "{'AAPL': 612.78, 'IBM': 205.55}\n"
     ]
    }
   ],
   "source": [
    "mylist = [1, 4, -5, 10, -7, 2, 3, -1];\n",
    "newlist = [i for i in mylist if i > 0];\n",
    "print(newlist);\n",
    "\n",
    "prices = {\n",
    "    'ACME': 45.23,\n",
    "    'AAPL': 612.78,\n",
    "    'IBM': 205.55,\n",
    "    'HPQ': 37.20,\n",
    "    'FB': 10.75\n",
    "};\n",
    "\n",
    "newprice = {key:value for key, value in prices.items() if value > 100};\n",
    "print(newprice);\n"
   ]
  },
  {
   "cell_type": "code",
   "execution_count": 33,
   "metadata": {},
   "outputs": [
    {
     "name": "stdout",
     "output_type": "stream",
     "text": [
      "1\n",
      "2\n",
      "3\n",
      "5\n"
     ]
    }
   ],
   "source": [
    "# merge two dic \n",
    "a = {'x': 1, 'z': 3 }\n",
    "b = {'y': 2, 'z': 4 }\n",
    "\n",
    "from collections import ChainMap;\n",
    "\n",
    "c =  ChainMap(a,b);\n",
    "print(c['x']);\n",
    "print(c['y']);\n",
    "print(c['z']); # return the value of first dict\n",
    "\n",
    "a['x'] = 5;\n",
    "print(c['x']); # orgin change can reflect in merged dict.\n"
   ]
  }
 ],
 "metadata": {
  "kernelspec": {
   "display_name": "Python 3.10.6 64-bit",
   "language": "python",
   "name": "python3"
  },
  "language_info": {
   "codemirror_mode": {
    "name": "ipython",
    "version": 3
   },
   "file_extension": ".py",
   "mimetype": "text/x-python",
   "name": "python",
   "nbconvert_exporter": "python",
   "pygments_lexer": "ipython3",
   "version": "3.10.6"
  },
  "orig_nbformat": 4,
  "vscode": {
   "interpreter": {
    "hash": "ac4ec57304f34e5a46a8ec5a24717e32abaa762d97555ff6e42b99ec2267434f"
   }
  }
 },
 "nbformat": 4,
 "nbformat_minor": 2
}
