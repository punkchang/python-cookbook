{
 "cells": [
  {
   "cell_type": "markdown",
   "metadata": {},
   "source": [
    "# DICT\n",
    "\n",
    "1. dict key必须是不可变对象， dict是根据key来计算value的地址，所以key一旦确定就不能改变。字符串，整数都是不可变对象，list就是可变对象\n",
    "2. set和dict都是用{}作为标识符，不同的是dict是key-value pair，set只有key， 同样要求key之间不能重复，同时key必须是不可变对象，这样才能确定是两个key是否相等\n",
    "3. set可以做逻辑上的与或操作。"
   ]
  },
  {
   "cell_type": "code",
   "execution_count": 3,
   "metadata": {},
   "outputs": [
    {
     "name": "stdout",
     "output_type": "stream",
     "text": [
      "{1, 2, 4, 8, 9}\n",
      "{1, 2}\n",
      "{1, 2, 3, 4, 8, 9}\n"
     ]
    }
   ],
   "source": [
    "a = set([1,2,2,1,4,2,9,8]);\n",
    "print(a);\n",
    "\n",
    "b = set([1,2,3]);\n",
    "\n",
    "c = a & b;\n",
    "print(c);\n",
    "c = a | b;\n",
    "print(c);"
   ]
  },
  {
   "cell_type": "code",
   "execution_count": 16,
   "metadata": {},
   "outputs": [
    {
     "name": "stdout",
     "output_type": "stream",
     "text": [
      "{1: [2], 3: [4], 5: [6]}\n",
      "defaultdict(<class 'list'>, {1: [2], 3: [4], 5: [6]})\n"
     ]
    }
   ],
   "source": [
    "# typical dict init \n",
    "\n",
    "pairs = [{1,2},{3,4},{5,6}];\n",
    "d = {}; # init dict\n",
    "for key, value in pairs:\n",
    "    if key not in d: # judge of key exist\n",
    "        d[key] = []  # if a new key, init value format \n",
    "    d[key].append(value)\n",
    "\n",
    "print(d);\n",
    "\n",
    "# defaultdict \n",
    "\n",
    "from collections import defaultdict;\n",
    "\n",
    "d = defaultdict(list);\n",
    "for key, value in pairs:\n",
    "    d[key].append(value);\n",
    "\n",
    "print(d);"
   ]
  },
  {
   "cell_type": "code",
   "execution_count": 11,
   "metadata": {},
   "outputs": [
    {
     "name": "stdout",
     "output_type": "stream",
     "text": [
      "defaultdict(<class 'list'>, {})\n",
      "defaultdict(<class 'list'>, {'a': [1, 2], 'c': 9})\n",
      "[1, 2]\n",
      "defaultdict(<class 'set'>, {})\n",
      "defaultdict(<class 'set'>, {1: {6, 7}, 2: {3}})\n",
      "{6, 7}\n"
     ]
    }
   ],
   "source": [
    "from collections import defaultdict;\n",
    "\n",
    "#no need to init dict, \n",
    "#just add key and append if value is a list, \n",
    "#if value is a single data, just assign it.\n",
    "\n",
    "d = defaultdict(list); # no need d = {}; and judege if the key exists\n",
    "print(d);\n",
    "d['a'].append(1);\n",
    "d['a'].append(2);\n",
    "d['c'] = 9;\n",
    "print(d);\n",
    "print(d['a']);\n",
    "\n",
    "s = defaultdict(set);\n",
    "print(s);\n",
    "s[1].add(6);\n",
    "s[2].add(3);\n",
    "s[1].add(7);\n",
    "print(s);\n",
    "print(s[1]);"
   ]
  },
  {
   "cell_type": "markdown",
   "metadata": {},
   "source": [
    "4. 正常dict的key是乱序的，实际初始化的顺序和最终输出的顺序不一致。如果想得到一个保续的dict，就需要用到OrderedDict\n",
    "5. 需要注意的是OrderedDict使用另一个链表来记录item插入顺序，所以占用内存是正常dict的两倍，如果dict内容本身很大，需要注意内存开销。"
   ]
  },
  {
   "cell_type": "code",
   "execution_count": 7,
   "metadata": {},
   "outputs": [
    {
     "name": "stdout",
     "output_type": "stream",
     "text": [
      "OrderedDict([('a', 1), ('b', 2), ('c', 3), ('d', 4)])\n",
      "{\"a\": 1, \"b\": 2, \"c\": 3, \"d\": 4}\n",
      "[1, 2, 3, 4]\n"
     ]
    }
   ],
   "source": [
    "from collections import OrderedDict;\n",
    "d = OrderedDict();\n",
    "d['a'] = 1;\n",
    "d['b'] = 2;\n",
    "d['c'] = 3;\n",
    "d['d'] = 4;\n",
    "print(d);\n",
    "\n",
    "import json;\n",
    "s = json.dumps(d);\n",
    "print(s);\n"
   ]
  },
  {
   "cell_type": "markdown",
   "metadata": {},
   "source": [
    "lambda function like \n",
    "\n",
    "```\n",
    "lambda x : 2*x \n",
    "```\n",
    "is equvalent to \n",
    "\n",
    "```\n",
    "def func (x):\n",
    "    return 2*x\n",
    "\n",
    "```\n",
    "\n",
    "你可以在 min() 和 max() 函数中提供 key 函数参数来获取最小值或最大值对应的键的信息："
   ]
  },
  {
   "cell_type": "code",
   "execution_count": 14,
   "metadata": {},
   "outputs": [
    {
     "name": "stdout",
     "output_type": "stream",
     "text": [
      "Helln\n",
      "(65, 'Jim')\n",
      "dict_keys(['Helln', 'Tom', 'Jim', 'Lucy'])\n"
     ]
    }
   ],
   "source": [
    "dict = {\n",
    "    \"Helln\" : 100,\n",
    "    \"Tom\" : 98,\n",
    "    \"Jim\" : 65,\n",
    "    \"Lucy\" : 76 \n",
    "};\n",
    "\n",
    "print(max(dict, key=lambda x : dict[x])); \n",
    "\n",
    "# compare based on the return of lambda function\n",
    "\n",
    "print(min(zip(dict.values(),dict.keys())));\n",
    "\n",
    "# compare the first index data and if first index data is equal \n",
    "# then compare the 2nd. \n",
    "\n"
   ]
  },
  {
   "cell_type": "markdown",
   "metadata": {},
   "source": [
    "只有具有set属性的集合才能进行集合操作（&，|，-）即保证集合内部没有重复的部分。符合这个的有set, dict.keys(), dict.items()。\n",
    "\n",
    "对于dict.values()不可以，原因还是因为其不能保证集合内没有重复元素，可能会导致某种集合操作出错。"
   ]
  },
  {
   "cell_type": "code",
   "execution_count": 23,
   "metadata": {},
   "outputs": [
    {
     "name": "stdout",
     "output_type": "stream",
     "text": [
      "defaultdict(None, {'x': 1, 'y': 2, 'z': 3}) defaultdict(None, {'x': 9, 'y': 2, 'w': 3})\n",
      "{('y', 2)}\n",
      "{'z'}\n",
      "{'w'}\n",
      "{'y', 'w', 'z', 'x'}\n",
      "{2, 3}\n"
     ]
    }
   ],
   "source": [
    "from collections import defaultdict;\n",
    "\n",
    "d1 = defaultdict();\n",
    "d1['x'] = 1;\n",
    "d1['y'] = 2;\n",
    "d1['z'] = 3;\n",
    "\n",
    "d2 = defaultdict();\n",
    "d2['x'] = 9;\n",
    "d2['y'] = 2;\n",
    "d2['w'] = 3;\n",
    "\n",
    "print(d1,d2);\n",
    "\n",
    "print(d1.items() & d2.items());\n",
    "print(d1.keys() - d2.keys());\n",
    "print(d2.keys() - d1.keys());\n",
    "print(d2.keys() | d1.keys());\n",
    "print(set(d1.values()) & set(d2.values())); # convert to set and do operation\n"
   ]
  }
 ],
 "metadata": {
  "kernelspec": {
   "display_name": "Python 3.10.6 64-bit",
   "language": "python",
   "name": "python3"
  },
  "language_info": {
   "codemirror_mode": {
    "name": "ipython",
    "version": 3
   },
   "file_extension": ".py",
   "mimetype": "text/x-python",
   "name": "python",
   "nbconvert_exporter": "python",
   "pygments_lexer": "ipython3",
   "version": "3.10.6"
  },
  "orig_nbformat": 4,
  "vscode": {
   "interpreter": {
    "hash": "88d3c9f79ce6612b3524e88f4b4c25b889063b766afcca441cc522b4fc65e301"
   }
  }
 },
 "nbformat": 4,
 "nbformat_minor": 2
}
