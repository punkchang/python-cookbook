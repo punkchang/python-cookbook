{
 "cells": [
  {
   "cell_type": "markdown",
   "metadata": {},
   "source": [
    "# DICT\n",
    "\n",
    "1. dict key必须是不可变对象， dict是根据key来计算value的地址，所以key一旦确定就不能改变。字符串，整数都是不可变对象，list就是可变对象\n",
    "2. set和dict都是用{}作为标识符，不同的是dict是key-value pair，set只有key， 同样要求key之间不能重复，同时key必须是不可变对象，这样才能确定是两个key是否相等\n",
    "3. set可以做逻辑上的与或操作。"
   ]
  },
  {
   "cell_type": "code",
   "execution_count": 3,
   "metadata": {},
   "outputs": [
    {
     "name": "stdout",
     "output_type": "stream",
     "text": [
      "{1, 2, 4, 8, 9}\n",
      "{1, 2}\n",
      "{1, 2, 3, 4, 8, 9}\n"
     ]
    }
   ],
   "source": [
    "a = set([1,2,2,1,4,2,9,8]);\n",
    "print(a);\n",
    "\n",
    "b = set([1,2,3]);\n",
    "\n",
    "c = a & b;\n",
    "print(c);\n",
    "c = a | b;\n",
    "print(c);"
   ]
  },
  {
   "cell_type": "code",
   "execution_count": 16,
   "metadata": {},
   "outputs": [
    {
     "name": "stdout",
     "output_type": "stream",
     "text": [
      "{1: [2], 3: [4], 5: [6]}\n",
      "defaultdict(<class 'list'>, {1: [2], 3: [4], 5: [6]})\n"
     ]
    }
   ],
   "source": [
    "# typical dict init \n",
    "\n",
    "pairs = [{1,2},{3,4},{5,6}];\n",
    "d = {}; # init dict\n",
    "for key, value in pairs:\n",
    "    if key not in d: # judge of key exist\n",
    "        d[key] = []  # if a new key, init value format \n",
    "    d[key].append(value)\n",
    "\n",
    "print(d);\n",
    "\n",
    "# defaultdict \n",
    "\n",
    "from collections import defaultdict;\n",
    "\n",
    "d = defaultdict(list);\n",
    "for key, value in pairs:\n",
    "    d[key].append(value);\n",
    "\n",
    "print(d);"
   ]
  },
  {
   "cell_type": "code",
   "execution_count": 11,
   "metadata": {},
   "outputs": [
    {
     "name": "stdout",
     "output_type": "stream",
     "text": [
      "defaultdict(<class 'list'>, {})\n",
      "defaultdict(<class 'list'>, {'a': [1, 2], 'c': 9})\n",
      "[1, 2]\n",
      "defaultdict(<class 'set'>, {})\n",
      "defaultdict(<class 'set'>, {1: {6, 7}, 2: {3}})\n",
      "{6, 7}\n"
     ]
    }
   ],
   "source": [
    "from collections import defaultdict;\n",
    "\n",
    "#no need to init dict, \n",
    "#just add key and append if value is a list, \n",
    "#if value is a single data, just assign it.\n",
    "\n",
    "d = defaultdict(list); # no need d = {}; and judege if the key exists\n",
    "print(d);\n",
    "d['a'].append(1);\n",
    "d['a'].append(2);\n",
    "d['c'] = 9;\n",
    "print(d);\n",
    "print(d['a']);\n",
    "\n",
    "s = defaultdict(set);\n",
    "print(s);\n",
    "s[1].add(6);\n",
    "s[2].add(3);\n",
    "s[1].add(7);\n",
    "print(s);\n",
    "print(s[1]);"
   ]
  }
 ],
 "metadata": {
  "kernelspec": {
   "display_name": "Python 3.10.6 64-bit",
   "language": "python",
   "name": "python3"
  },
  "language_info": {
   "codemirror_mode": {
    "name": "ipython",
    "version": 3
   },
   "file_extension": ".py",
   "mimetype": "text/x-python",
   "name": "python",
   "nbconvert_exporter": "python",
   "pygments_lexer": "ipython3",
   "version": "3.10.6"
  },
  "orig_nbformat": 4,
  "vscode": {
   "interpreter": {
    "hash": "88d3c9f79ce6612b3524e88f4b4c25b889063b766afcca441cc522b4fc65e301"
   }
  }
 },
 "nbformat": 4,
 "nbformat_minor": 2
}
